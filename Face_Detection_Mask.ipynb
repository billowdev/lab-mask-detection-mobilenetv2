{
  "nbformat": 4,
  "nbformat_minor": 0,
  "metadata": {
    "colab": {
      "name": "Face_Detection_Mask.ipynb",
      "provenance": [],
      "collapsed_sections": [],
      "authorship_tag": "ABX9TyMDhaEwLyvfcPMJCQMt2I//",
      "include_colab_link": true
    },
    "kernelspec": {
      "name": "python3",
      "display_name": "Python 3"
    },
    "language_info": {
      "name": "python"
    },
    "accelerator": "GPU"
  },
  "cells": [
    {
      "cell_type": "markdown",
      "metadata": {
        "id": "view-in-github",
        "colab_type": "text"
      },
      "source": [
        "<a href=\"https://colab.research.google.com/github/lacakp/Project-Mask-Detection/blob/main/Face_Detection_Mask.ipynb\" target=\"_parent\"><img src=\"https://colab.research.google.com/assets/colab-badge.svg\" alt=\"Open In Colab\"/></a>"
      ]
    },
    {
      "cell_type": "markdown",
      "metadata": {
        "id": "_uBZUvLIj8oP"
      },
      "source": [
        "# Face Detection Mask"
      ]
    },
    {
      "cell_type": "markdown",
      "metadata": {
        "id": "r82DutnElvuu"
      },
      "source": [
        "## Introduction\n"
      ]
    },
    {
      "cell_type": "code",
      "metadata": {
        "id": "ukqIQopnmHRz"
      },
      "source": [
        "# library สำหรับใช่ videocapture\n",
        "from IPython.display import display, Javascript\n",
        "from google.colab.output import eval_js\n",
        "from base64 import b64decode, b64encode\n",
        "import numpy as np\n",
        "from PIL import Image\n",
        "import io"
      ],
      "execution_count": null,
      "outputs": []
    },
    {
      "cell_type": "code",
      "metadata": {
        "id": "AFMhLhXCj913"
      },
      "source": [
        "# โหลด haarcascade เพื่อช่วยในการตรวจจับใบหน้า\n",
        "!wget https://raw.githubusercontent.com/opencv/opencv/master/data/haarcascades/haarcascade_frontalface_default.xml\n",
        "# โหลด model เพื่อทำการตรวจจับหน้ากาก\n",
        "!wget https://raw.githubusercontent.com/lacakp/Project-Mask-Detection/main/mask_detection_model"
      ],
      "execution_count": null,
      "outputs": []
    },
    {
      "cell_type": "markdown",
      "metadata": {
        "id": "X4w0JDSNC-Ga"
      },
      "source": [
        "## Videocapture"
      ]
    },
    {
      "cell_type": "code",
      "metadata": {
        "id": "X1dSe97ukwD2"
      },
      "source": [
        "## โค้ด videocapture \n",
        "# reference \n",
        "# - AI บ้าน บ้าน (รศ.ดร.ปริญญา สงวนสัตย์)\n",
        "# - https://www.youtube.com/watch?v=1VziTgVt4GQ&t=11s\n",
        "# - https://colab.research.google.com/drive/1v4zM9Gcxt6r5pHGN8HS6CYsLTt1VoZsG\n",
        "\n",
        "def VideoCapture(): # ฟังก์ชันสำหรับเรียกใช้ VideoCapture()\n",
        "  js = Javascript('''\n",
        "    async function create(){\n",
        "      div = document.createElement('div');\n",
        "      document.body.appendChild(div);\n",
        "\n",
        "      video = document.createElement('video');\n",
        "      video.setAttribute('playsinline', '');\n",
        "\n",
        "      div.appendChild(video);\n",
        "\n",
        "      stream = await navigator.mediaDevices.getUserMedia({video: {facingMode: \"environment\"}});\n",
        "      video.srcObject = stream;\n",
        "\n",
        "      await video.play();\n",
        "\n",
        "      canvas =  document.createElement('canvas');\n",
        "      canvas.width = video.videoWidth;\n",
        "      canvas.height = video.videoHeight;\n",
        "      canvas.getContext('2d').drawImage(video, 0, 0);\n",
        "\n",
        "      div_out = document.createElement('div');\n",
        "      document.body.appendChild(div_out);\n",
        "      img = document.createElement('img');\n",
        "      div_out.appendChild(img);\n",
        "    }\n",
        "\n",
        "    async function capture(){\n",
        "        return await new Promise(function(resolve, reject){\n",
        "            pendingResolve = resolve;\n",
        "            canvas.getContext('2d').drawImage(video, 0, 0);\n",
        "            result = canvas.toDataURL('image/jpeg', 0.8);\n",
        "            pendingResolve(result);\n",
        "        })\n",
        "    }\n",
        "\n",
        "    function showimg(imgb64){\n",
        "        img.src = \"data:image/jpg;base64,\" + imgb64;\n",
        "    }\n",
        "\n",
        "  ''')\n",
        "  display(js)\n",
        "\n",
        "def byte2image(byte): # ฟังก์ชันสำหรับแปลงข้อมูล byte เป็นรูปภาพ\n",
        "  jpeg = b64decode(byte.split(',')[1])\n",
        "  im = Image.open(io.BytesIO(jpeg))\n",
        "  return np.array(im)\n",
        "\n",
        "def image2byte(image): # ฟังก์ชันสำหรับแปลงข้อมูล ภาพ เป็น byte\n",
        "  image = Image.fromarray(image)\n",
        "  buffer = io.BytesIO()\n",
        "  image.save(buffer, 'jpeg')\n",
        "  buffer.seek(0)\n",
        "  x = b64encode(buffer.read()).decode('utf-8')\n",
        "  return x\n"
      ],
      "execution_count": null,
      "outputs": []
    },
    {
      "cell_type": "markdown",
      "metadata": {
        "id": "qjjGfreSCwFr"
      },
      "source": [
        "## Pre-processing"
      ]
    },
    {
      "cell_type": "code",
      "metadata": {
        "id": "DDDYEt8Omk3b"
      },
      "source": [
        "# Pre-processing\n",
        "import cv2     # OpenCV provides a real-time optimized Computer Vision library\n",
        "import numpy as np # NumPy เป็นไลบรารี่ที่เพิ่มการรองรับอาร์เรย์และเมทริกซ์ขนาดใหญ่หลายมิติ พร้อมด้วยคอลเลกชั่นฟังก์ชันทางคณิตศาสตร์ระดับสูงจำนวนมาก\n",
        "from keras.models import load_model # keras.models เพื่อทำการโหลดโมเดลจากไฟล์\n",
        "import tensorflow as tf             # TensorFlow เป็นไลบรารีซอฟต์แวร์โอเพ่นซอร์สฟรีสำหรับการเรียนรู้ของเครื่องและปัญญาประดิษฐ์\n",
        "from google.colab.patches import cv2_imshow # ใช้ cv_imshow สำหรับโชว์ภาพบนโคแลป\n",
        "import time  # library time เพื่อใช้ time.sleep ทำการดีเลย์\n",
        "model = load_model(\"./mask_detection_model\") # ทำการโหลดโมเดล\n",
        "face_detector = cv2.CascadeClassifier('haarcascade_frontalface_default.xml') \n",
        "# ใช้ haarcascade (การตรวจจับวัตถุโดยใช้ตัวแยกประเภทการเรียงซ้อนตามฟีเจอร์ของ Haar เป็นวิธีการตรวจจับวัตถุที่มีประสิทธิภาพซึ่งเสนอโดย Paul Viola และ Michael Jones)"
      ],
      "execution_count": null,
      "outputs": []
    },
    {
      "cell_type": "markdown",
      "metadata": {
        "id": "VpYXY0yrCyKx"
      },
      "source": [
        "## Processing | Post-Processing"
      ]
    },
    {
      "cell_type": "code",
      "metadata": {
        "id": "4EOE9MbmmUMu"
      },
      "source": [
        "# processing\n",
        "# กด CTRL + M + L เพื่อโชว์ จำนวนบรรทัดใน ceil (ซึ่งเป็น คีย์ลัดของ colab)\n",
        "# model shape  shape=(None, 224, 224, 3) (รูปร่างของโมเดล ซึ่งโมเดลถูกเทรนด้วยภาพ ขนาด 224x224)\n",
        "\n",
        "VideoCapture()  # เรียกใช้ฟังก์ชัน VideoCapture() เพื่อทำการเรียกใช้กล้อง ซึ่งโค้ดส่วนนี้คือ Java Script เพื่อทำให้ใช้งานกล้องใน colab ได้ โดย รศ.ดร.ปริญญา สงวนสัตย์\n",
        "eval_js('create()') \n",
        "while True: # เริ่มต้นการ ตรวจจับใบหน้าและเช็คว่ามีแมสก์หรือไม่\n",
        "    byte = eval_js('capture()')  # เป็นข้อมูล byte ที่ได้จากการอ่านภาพจากกล้อง\n",
        "    frame = byte2image(byte) # แปลง ข้อมูล byte เป็น ภาพ ด้วยฟังก์ชัน byte2image()\n",
        "    frame = cv2.flip(frame,1,1) # สลับเพื่อให้ไม่เหมือนกระจก\n",
        "    new_img = cv2.resize(frame, (frame.shape[1] // 1, frame.shape[0] // 1)) # resize ขนาดภาพเพื่อให้ง่ายต่อการตรวจจับ\n",
        "\n",
        "    faces = face_detector.detectMultiScale(new_img) # สำหรับตรวจจับใบหน้า โดย \n",
        "    for x, y, w, h in faces: # วนซ้ำพิกัดบนใบหน้า\n",
        "      face_img = new_img[y:x+h, x:x+w] # ดึงพิกัดใบหน้า\n",
        "      resized = cv2.resize(face_img, (224, 224)) # ให้ภาพใบหน้า fit กับโมเดล (224,224)\n",
        "      img_array = tf.keras.preprocessing.image.img_to_array(resized) # แปลงใบหน้าเป็น array\n",
        "      img_array = tf.expand_dims(img_array, 0) #ขยายมิติภาพฟิตกับโมดล\n",
        "      predictions = model.predict(img_array) # ทำนายบน ROI (Region of Interest)\n",
        "      score = tf.nn.softmax(predictions[0]) # ผลลัพธ์\n",
        "      label = np.argmax(score) # หาค่าสูงสุด\n",
        "\n",
        "      # Post-Processing\n",
        " \n",
        "      if label == 0: # ถ้าค่าที่ได้ เป็น 0 \n",
        "        cv2.rectangle(new_img, (x, y), (x+w, y+h), (0, 255, 0), 2)  # วาดสี่เหลี่ยมรอบใบหน้า\n",
        "        cv2.putText(new_img, \"mask\", (x, y), cv2.FONT_HERSHEY_SIMPLEX, 0.8, (0, 255, 0), 2) # แสดงข้อความ \"mask\"\n",
        "      elif label == 1:\n",
        "        cv2.rectangle(new_img, (x, y), (x+w, y+h), (0, 255, 0), 2) # วาดสี่เหลี่ยมรอบใบหน้า\n",
        "        cv2.putText(new_img, \"No mask\", (x, y), cv2.FONT_HERSHEY_SIMPLEX, 0.8, (0, 255, 0), 2) # แสดงข้อความ \"No mask\"\n",
        "      else:\n",
        "        None\n",
        "      # pass\n",
        "      # แสดงผลหลังจากทำนาย\n",
        "      new_img = cv2.cvtColor(new_img, cv2.COLOR_BGR2RGB) # ทำการแปลงภาพจาก ปริภูมิ BGR เป็น RGB\n",
        "      cv2_imshow(new_img) # แสดงภาพ\n",
        "      print(np.argmax(score), 100 * np.max(score)) # แสดงค่าความถูกต้อง\n",
        "      time.sleep(2) # ดีเลย์ 2วินาที\n",
        "\n",
        "    eval_js('showimg(\"{}\")'.format(image2byte(frame))) # แสดงเฟรมกล้อง"
      ],
      "execution_count": null,
      "outputs": []
    },
    {
      "cell_type": "code",
      "metadata": {
        "id": "UoQcregyrl0N"
      },
      "source": [
        ""
      ],
      "execution_count": null,
      "outputs": []
    }
  ]
}