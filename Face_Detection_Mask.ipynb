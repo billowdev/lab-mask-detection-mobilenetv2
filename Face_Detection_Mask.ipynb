{
  "nbformat": 4,
  "nbformat_minor": 0,
  "metadata": {
    "colab": {
      "name": "Face_Detection_Mask.ipynb",
      "provenance": [],
      "collapsed_sections": [],
      "authorship_tag": "ABX9TyOTFXqQHm+ADlFB6nFd23O9",
      "include_colab_link": true
    },
    "kernelspec": {
      "name": "python3",
      "display_name": "Python 3"
    },
    "language_info": {
      "name": "python"
    },
    "accelerator": "GPU"
  },
  "cells": [
    {
      "cell_type": "markdown",
      "metadata": {
        "id": "view-in-github",
        "colab_type": "text"
      },
      "source": [
        "<a href=\"https://colab.research.google.com/github/lacakp/Project-Mask-Detection/blob/main/Face_Detection_Mask.ipynb\" target=\"_parent\"><img src=\"https://colab.research.google.com/assets/colab-badge.svg\" alt=\"Open In Colab\"/></a>"
      ]
    },
    {
      "cell_type": "markdown",
      "metadata": {
        "id": "_uBZUvLIj8oP"
      },
      "source": [
        "# Face Detection Mask"
      ]
    },
    {
      "cell_type": "markdown",
      "metadata": {
        "id": "r82DutnElvuu"
      },
      "source": [
        "reference videocapture\n",
        "  - AI บ้าน บ้าน (รศ.ดร.ปริญญา สงวนสัตย์)\n",
        "\n",
        "- https://www.youtube.com/watch?v=1VziTgVt4GQ&t=11s\n",
        "\n",
        "- https://colab.research.google.com/drive/1v4zM9Gcxt6r5pHGN8HS6CYsLTt1VoZsG\n"
      ]
    },
    {
      "cell_type": "code",
      "metadata": {
        "id": "ukqIQopnmHRz"
      },
      "source": [
        "from IPython.display import display, Javascript\n",
        "from google.colab.output import eval_js\n",
        "from base64 import b64decode, b64encode\n",
        "import numpy as np\n",
        "from PIL import Image\n",
        "import io"
      ],
      "execution_count": null,
      "outputs": []
    },
    {
      "cell_type": "code",
      "metadata": {
        "id": "AFMhLhXCj913"
      },
      "source": [
        "# haarcascade\n",
        "!wget https://raw.githubusercontent.com/opencv/opencv/master/data/haarcascades/haarcascade_frontalface_default.xml\n",
        "# load model\n",
        "!wget https://raw.githubusercontent.com/lacakp/Project-Mask-Detection/main/mask_detection_model"
      ],
      "execution_count": null,
      "outputs": []
    },
    {
      "cell_type": "code",
      "metadata": {
        "id": "X1dSe97ukwD2"
      },
      "source": [
        "## โค้ด videocapture \n",
        "# reference \n",
        "# - AI บ้าน บ้าน (รศ.ดร.ปริญญา สงวนสัตย์)\n",
        "# - https://www.youtube.com/watch?v=1VziTgVt4GQ&t=11s\n",
        "# - https://colab.research.google.com/drive/1v4zM9Gcxt6r5pHGN8HS6CYsLTt1VoZsG\n",
        "\n",
        "def VideoCapture():\n",
        "  js = Javascript('''\n",
        "    async function create(){\n",
        "      div = document.createElement('div');\n",
        "      document.body.appendChild(div);\n",
        "\n",
        "      video = document.createElement('video');\n",
        "      video.setAttribute('playsinline', '');\n",
        "\n",
        "      div.appendChild(video);\n",
        "\n",
        "      stream = await navigator.mediaDevices.getUserMedia({video: {facingMode: \"environment\"}});\n",
        "      video.srcObject = stream;\n",
        "\n",
        "      await video.play();\n",
        "\n",
        "      canvas =  document.createElement('canvas');\n",
        "      canvas.width = video.videoWidth;\n",
        "      canvas.height = video.videoHeight;\n",
        "      canvas.getContext('2d').drawImage(video, 0, 0);\n",
        "\n",
        "      div_out = document.createElement('div');\n",
        "      document.body.appendChild(div_out);\n",
        "      img = document.createElement('img');\n",
        "      div_out.appendChild(img);\n",
        "    }\n",
        "\n",
        "    async function capture(){\n",
        "        return await new Promise(function(resolve, reject){\n",
        "            pendingResolve = resolve;\n",
        "            canvas.getContext('2d').drawImage(video, 0, 0);\n",
        "            result = canvas.toDataURL('image/jpeg', 0.8);\n",
        "            pendingResolve(result);\n",
        "        })\n",
        "    }\n",
        "\n",
        "    function showimg(imgb64){\n",
        "        img.src = \"data:image/jpg;base64,\" + imgb64;\n",
        "    }\n",
        "\n",
        "  ''')\n",
        "  display(js)\n",
        "\n",
        "def byte2image(byte):\n",
        "  jpeg = b64decode(byte.split(',')[1])\n",
        "  im = Image.open(io.BytesIO(jpeg))\n",
        "  return np.array(im)\n",
        "\n",
        "def image2byte(image):\n",
        "  image = Image.fromarray(image)\n",
        "  buffer = io.BytesIO()\n",
        "  image.save(buffer, 'jpeg')\n",
        "  buffer.seek(0)\n",
        "  x = b64encode(buffer.read()).decode('utf-8')\n",
        "  return x\n"
      ],
      "execution_count": null,
      "outputs": []
    },
    {
      "cell_type": "code",
      "metadata": {
        "id": "DDDYEt8Omk3b"
      },
      "source": [
        "# Pre-processing\n",
        "import cv2\n",
        "import numpy as np\n",
        "from keras.models import load_model\n",
        "import tensorflow as tf\n",
        "from google.colab.patches import cv2_imshow\n",
        "import time\n",
        "model = load_model(\"./mask_detection_model\")\n",
        "face_detector = cv2.CascadeClassifier('haarcascade_frontalface_default.xml')"
      ],
      "execution_count": null,
      "outputs": []
    },
    {
      "cell_type": "code",
      "metadata": {
        "id": "4EOE9MbmmUMu"
      },
      "source": [
        "# processing\n",
        "# model shape  shape=(None, 224, 224, 3)\n",
        "\n",
        "labels_dict={0:'without mask',1:'mask'}\n",
        "color_dict={0:(0,0,255),1:(0,255,0)}\n",
        "\n",
        "VideoCapture()\n",
        "eval_js('create()')\n",
        "while True:\n",
        "    byte = eval_js('capture()')\n",
        "    frame = byte2image(byte)\n",
        "    frame = cv2.flip(frame,1,1) # สลับเพื่อให้ไม่เหมือนกระจก\n",
        "    # gray = cv2.cvtColor(frame, cv2.COLOR_RGB2GRAY)\n",
        "    new_img = cv2.resize(frame, (frame.shape[1] // 1, frame.shape[0] // 1)) # resize\n",
        "    # สำหรับตรวจจับใบหน้า\n",
        "    faces = face_detector.detectMultiScale(new_img)\n",
        "    for x, y, w, h in faces:\n",
        "      face_img = new_img[y:x+h, x:x+w] # ดึงพิกัดใบหน้า\n",
        "      resized = cv2.resize(face_img, (224, 224)) # ให้ภาพใบหน้า fit กับโมเดล (224,224)\n",
        "      img_array = tf.keras.preprocessing.image.img_to_array(resized) # แปลงใบหน้าเป็น array\n",
        "      img_array = tf.expand_dims(img_array, 0) #ขยายมิติภาพฟิตกับโมดล\n",
        "      predictions = model.predict(img_array) # ทำนายบน ROI (Region of Interest)\n",
        "      score = tf.nn.softmax(predictions[0]) # ผลลัพธ์\n",
        "      label = np.argmax(score)\n",
        "\n",
        "      # Post-Processing\n",
        "\n",
        "      if label == 0:\n",
        "        cv2.rectangle(new_img, (x, y), (x+w, y+h), (0, 255, 0), 2)\n",
        "        cv2.putText(new_img, \"mask\", (x, y), cv2.FONT_HERSHEY_SIMPLEX, 0.8, (0, 255, 0), 2)\n",
        "      elif label == 1:\n",
        "        cv2.rectangle(new_img, (x, y), (x+w, y+h), (0, 255, 0), 2)\n",
        "        cv2.putText(new_img, \"No mask\", (x, y), cv2.FONT_HERSHEY_SIMPLEX, 0.8, (0, 255, 0), 2)\n",
        "      else:\n",
        "        None\n",
        "      # pass\n",
        "      # แสดงผลหลังจากทำนาย\n",
        "      new_img = cv2.cvtColor(new_img, cv2.COLOR_BGR2RGB)\n",
        "      cv2_imshow(new_img)\n",
        "      # eval_js('showimg(\"{}\")'.format(image2byte(new_img)))\n",
        "      print(np.argmax(score), 100 * np.max(score))\n",
        "      time.sleep(1)\n",
        "\n",
        "    eval_js('showimg(\"{}\")'.format(image2byte(frame)))"
      ],
      "execution_count": null,
      "outputs": []
    },
    {
      "cell_type": "code",
      "metadata": {
        "id": "UoQcregyrl0N"
      },
      "source": [
        "|"
      ],
      "execution_count": null,
      "outputs": []
    }
  ]
}